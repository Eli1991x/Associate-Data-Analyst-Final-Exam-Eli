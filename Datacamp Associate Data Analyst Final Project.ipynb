{
 "cells": [
  {
   "cell_type": "markdown",
   "id": "a5b3bc0e-b993-4ee3-bd07-825a474bd0d9",
   "metadata": {
    "tags": []
   },
   "source": [
    "# Data Analyst Associate Practical Exam Submission\n",
    "\n",
    "**You can use any tool that you want to do your analysis and create visualizations. Use this template to write up your summary for submission.**\n",
    "\n",
    "You can use any markdown formatting you wish. If you are not familiar with Markdown, read the [Markdown Guide](https://s3.amazonaws.com/talent-assets.datacamp.com/Markdown+Guide.pdf) before you start.\n",
    "\n"
   ]
  },
  {
   "cell_type": "markdown",
   "id": "d1b1a012-1ccb-40e7-a1ad-77b60b256690",
   "metadata": {
    "jp-MarkdownHeadingCollapsed": true,
    "tags": []
   },
   "source": [
    "## Task 1\n",
    "\n"
   ]
  },
  {
   "cell_type": "markdown",
   "id": "feb07bb1-85dd-418a-857f-66ac77f7d386",
   "metadata": {},
   "source": [
    "1. For every column in the data:\n",
    "\n",
    "a. State whether the values match the description given in the table above.\n",
    "\n",
    "b. State the number of missing values in the column.\n",
    "\n",
    "c. Describe what you did to make values match the description if they did not\n",
    "match."
   ]
  },
  {
   "cell_type": "code",
   "execution_count": 19,
   "id": "774bb18f-a9f6-4f7d-acf3-a9420a4aeb3b",
   "metadata": {
    "executionTime": 662,
    "lastSuccessfullyExecutedCode": "import pandas as pd\nimport matplotlib.pyplot as plt\nimport matplotlib.style as style\nimport seaborn as sns\nimport numpy as np"
   },
   "outputs": [],
   "source": [
    "import pandas as pd\n",
    "import matplotlib.pyplot as plt\n",
    "import matplotlib.style as style\n",
    "import seaborn as sns\n",
    "import numpy as np"
   ]
  },
  {
   "cell_type": "code",
   "execution_count": 20,
   "id": "2b00542b-07bd-4d46-a0b5-06ed44c45fdc",
   "metadata": {
    "executionTime": 72,
    "lastSuccessfullyExecutedCode": "Food_claims = pd.read_csv('food_claims_2212.csv')\nFood_claims.describe()"
   },
   "outputs": [
    {
     "data": {
      "application/com.datacamp.data-table.v1+json": {
       "table": {
        "data": [
         {
          "amount_paid": 1964,
          "claim_id": 2000,
          "index": "count",
          "individuals_on_claim": 2000,
          "time_to_close": 2000
         },
         {
          "amount_paid": 21541.9751832994,
          "claim_id": 1000.5,
          "index": "mean",
          "individuals_on_claim": 8.0495,
          "time_to_close": 185.568
         },
         {
          "amount_paid": 12530.1565093075,
          "claim_id": 577.4945887192,
          "index": "std",
          "individuals_on_claim": 4.0873466884,
          "time_to_close": 49.163389788
         },
         {
          "amount_paid": 1516.72,
          "claim_id": 1,
          "index": "min",
          "individuals_on_claim": 1,
          "time_to_close": 76
         },
         {
          "amount_paid": 10995.95,
          "claim_id": 500.75,
          "index": "25%",
          "individuals_on_claim": 4,
          "time_to_close": 158
         },
         {
          "amount_paid": 20105.7,
          "claim_id": 1000.5,
          "index": "50%",
          "individuals_on_claim": 8,
          "time_to_close": 179
         },
         {
          "amount_paid": 30709.35,
          "claim_id": 1500.25,
          "index": "75%",
          "individuals_on_claim": 12,
          "time_to_close": 204
         },
         {
          "amount_paid": 52498.75,
          "claim_id": 2000,
          "index": "max",
          "individuals_on_claim": 15,
          "time_to_close": 518
         }
        ],
        "schema": {
         "fields": [
          {
           "name": "index",
           "type": "string"
          },
          {
           "name": "claim_id",
           "type": "number"
          },
          {
           "name": "time_to_close",
           "type": "number"
          },
          {
           "name": "amount_paid",
           "type": "number"
          },
          {
           "name": "individuals_on_claim",
           "type": "number"
          }
         ],
         "pandas_version": "1.4.0",
         "primaryKey": [
          "index"
         ]
        }
       },
       "total_rows": 8,
       "truncation_type": null
      },
      "text/html": [
       "<div>\n",
       "<style scoped>\n",
       "    .dataframe tbody tr th:only-of-type {\n",
       "        vertical-align: middle;\n",
       "    }\n",
       "\n",
       "    .dataframe tbody tr th {\n",
       "        vertical-align: top;\n",
       "    }\n",
       "\n",
       "    .dataframe thead th {\n",
       "        text-align: right;\n",
       "    }\n",
       "</style>\n",
       "<table border=\"1\" class=\"dataframe\">\n",
       "  <thead>\n",
       "    <tr style=\"text-align: right;\">\n",
       "      <th></th>\n",
       "      <th>claim_id</th>\n",
       "      <th>time_to_close</th>\n",
       "      <th>amount_paid</th>\n",
       "      <th>individuals_on_claim</th>\n",
       "    </tr>\n",
       "  </thead>\n",
       "  <tbody>\n",
       "    <tr>\n",
       "      <th>count</th>\n",
       "      <td>2000.000000</td>\n",
       "      <td>2000.00000</td>\n",
       "      <td>1964.000000</td>\n",
       "      <td>2000.000000</td>\n",
       "    </tr>\n",
       "    <tr>\n",
       "      <th>mean</th>\n",
       "      <td>1000.500000</td>\n",
       "      <td>185.56800</td>\n",
       "      <td>21541.975183</td>\n",
       "      <td>8.049500</td>\n",
       "    </tr>\n",
       "    <tr>\n",
       "      <th>std</th>\n",
       "      <td>577.494589</td>\n",
       "      <td>49.16339</td>\n",
       "      <td>12530.156509</td>\n",
       "      <td>4.087347</td>\n",
       "    </tr>\n",
       "    <tr>\n",
       "      <th>min</th>\n",
       "      <td>1.000000</td>\n",
       "      <td>76.00000</td>\n",
       "      <td>1516.720000</td>\n",
       "      <td>1.000000</td>\n",
       "    </tr>\n",
       "    <tr>\n",
       "      <th>25%</th>\n",
       "      <td>500.750000</td>\n",
       "      <td>158.00000</td>\n",
       "      <td>10995.950000</td>\n",
       "      <td>4.000000</td>\n",
       "    </tr>\n",
       "    <tr>\n",
       "      <th>50%</th>\n",
       "      <td>1000.500000</td>\n",
       "      <td>179.00000</td>\n",
       "      <td>20105.700000</td>\n",
       "      <td>8.000000</td>\n",
       "    </tr>\n",
       "    <tr>\n",
       "      <th>75%</th>\n",
       "      <td>1500.250000</td>\n",
       "      <td>204.00000</td>\n",
       "      <td>30709.350000</td>\n",
       "      <td>12.000000</td>\n",
       "    </tr>\n",
       "    <tr>\n",
       "      <th>max</th>\n",
       "      <td>2000.000000</td>\n",
       "      <td>518.00000</td>\n",
       "      <td>52498.750000</td>\n",
       "      <td>15.000000</td>\n",
       "    </tr>\n",
       "  </tbody>\n",
       "</table>\n",
       "</div>"
      ],
      "text/plain": [
       "          claim_id  time_to_close   amount_paid  individuals_on_claim\n",
       "count  2000.000000     2000.00000   1964.000000           2000.000000\n",
       "mean   1000.500000      185.56800  21541.975183              8.049500\n",
       "std     577.494589       49.16339  12530.156509              4.087347\n",
       "min       1.000000       76.00000   1516.720000              1.000000\n",
       "25%     500.750000      158.00000  10995.950000              4.000000\n",
       "50%    1000.500000      179.00000  20105.700000              8.000000\n",
       "75%    1500.250000      204.00000  30709.350000             12.000000\n",
       "max    2000.000000      518.00000  52498.750000             15.000000"
      ]
     },
     "execution_count": 20,
     "metadata": {},
     "output_type": "execute_result"
    }
   ],
   "source": [
    "Food_claims = pd.read_csv('food_claims_2212.csv')\n",
    "Food_claims.describe()"
   ]
  },
  {
   "cell_type": "markdown",
   "id": "ec972701-3aa0-469d-869d-348a943d5751",
   "metadata": {},
   "source": [
    "Looking at the summary statistics for Food Claims we can see that every column has 2000 observations except amount_paid, which only has 1964 observations. \n",
    "Let's investigate the amount_paid column further. We'll check the other columns for NA/null values."
   ]
  },
  {
   "cell_type": "markdown",
   "id": "714a7083-7a43-4b0b-8ed4-2675efc87691",
   "metadata": {
    "tags": []
   },
   "source": [
    "*Write your answer here*"
   ]
  },
  {
   "cell_type": "code",
   "execution_count": 21,
   "id": "05f43546-c61c-44f1-8876-a6180ec1b2b5",
   "metadata": {
    "executionTime": 612,
    "lastSuccessfullyExecutedCode": "Food_claims['location'].isna().sum()\n#There are no null values "
   },
   "outputs": [
    {
     "data": {
      "text/plain": [
       "0"
      ]
     },
     "execution_count": 21,
     "metadata": {},
     "output_type": "execute_result"
    }
   ],
   "source": [
    "Food_claims['location'].isna().sum()\n",
    "#There are no null values "
   ]
  },
  {
   "cell_type": "code",
   "execution_count": 22,
   "id": "c457595c-1bf5-49c8-996a-a48effabdfdd",
   "metadata": {
    "executionTime": 0,
    "lastSuccessfullyExecutedCode": "Food_claims['cause'].isna().sum()\n#There are no null values \nFood_claims['cause'] = Food_claims['cause'].str.lower()\nFood_claims['cause'] = Food_claims['cause'].str.strip()\nFood_claims['cause'] = Food_claims['cause'].str.removesuffix('s')\n"
   },
   "outputs": [],
   "source": [
    "Food_claims['cause'].isna().sum()\n",
    "#There are no null values \n",
    "Food_claims['cause'] = Food_claims['cause'].str.lower()\n",
    "Food_claims['cause'] = Food_claims['cause'].str.strip()\n",
    "Food_claims['cause'] = Food_claims['cause'].str.removesuffix('s')\n"
   ]
  },
  {
   "cell_type": "markdown",
   "id": "f7391131-bb8a-41c7-b6ae-76b7dee7bedf",
   "metadata": {},
   "source": [
    "In this column we had duplicate values in different cases (Meat and meat) plus duplicate entries for vegetables (vegetable and vegetables).\n",
    "Additionally, some observations contained whitespaces. we resolve these issues by running the code above."
   ]
  },
  {
   "cell_type": "markdown",
   "id": "3b250d87-d198-4739-9bd1-b22b39f9993e",
   "metadata": {},
   "source": []
  },
  {
   "cell_type": "code",
   "execution_count": 23,
   "id": "4c84c0cc-f9e7-4db3-aeeb-442a47acc594",
   "metadata": {
    "executionTime": 55,
    "lastSuccessfullyExecutedCode": "Food_claims['claim_amount'].dtypes\n#The claim amount column is the wrong datatype(object), we'll change this to float (continuous). We'll remove the prefix R$ in order to convert this column into a float type."
   },
   "outputs": [
    {
     "data": {
      "text/plain": [
       "dtype('O')"
      ]
     },
     "execution_count": 23,
     "metadata": {},
     "output_type": "execute_result"
    }
   ],
   "source": [
    "Food_claims['claim_amount'].dtypes\n",
    "#The claim amount column is the wrong datatype(object), we'll change this to float (continuous). We'll remove the prefix R$ in order to convert this column into a float type."
   ]
  },
  {
   "cell_type": "code",
   "execution_count": 24,
   "id": "10f993ce-57f8-4ff8-99ef-ac2371bd6b29",
   "metadata": {
    "executionTime": 879,
    "lastSuccessfullyExecutedCode": "Food_claims['claim_amount'] = Food_claims['claim_amount'].str.removeprefix('R$')\nFood_claims['claim_amount'] = Food_claims['claim_amount'].astype('float')\nFood_claims['claim_amount'] = Food_claims['claim_amount'].round(2)\nFood_claims['claim_amount'].head()\n#The column has now been rounded to 2 decimal places and is now the correct data type. "
   },
   "outputs": [
    {
     "data": {
      "text/plain": [
       "0    74474.55\n",
       "1    52137.83\n",
       "2    24447.20\n",
       "3    29006.28\n",
       "4    19520.60\n",
       "Name: claim_amount, dtype: float64"
      ]
     },
     "execution_count": 24,
     "metadata": {},
     "output_type": "execute_result"
    }
   ],
   "source": [
    "Food_claims['claim_amount'] = Food_claims['claim_amount'].str.removeprefix('R$')\n",
    "Food_claims['claim_amount'] = Food_claims['claim_amount'].astype('float')\n",
    "Food_claims['claim_amount'] = Food_claims['claim_amount'].round(2)\n",
    "Food_claims['claim_amount'].head()\n",
    "#The column has now been rounded to 2 decimal places and is now the correct data type. "
   ]
  },
  {
   "cell_type": "code",
   "execution_count": 25,
   "id": "41035eb1-7290-406e-b5e4-cbcab9038de8",
   "metadata": {
    "executionTime": 35,
    "lastSuccessfullyExecutedCode": "Food_claims['linked_cases'].isna().sum()\n#There are 26 missing values. We'll replace them with 'False'\n"
   },
   "outputs": [
    {
     "data": {
      "text/plain": [
       "26"
      ]
     },
     "execution_count": 25,
     "metadata": {},
     "output_type": "execute_result"
    }
   ],
   "source": [
    "Food_claims['linked_cases'].isna().sum()\n",
    "#There are 26 missing values. We'll replace them with 'False'\n"
   ]
  },
  {
   "cell_type": "code",
   "execution_count": 26,
   "id": "3eb56ab0-0282-4fa9-996f-c947c3ba6f7b",
   "metadata": {
    "executionTime": 20,
    "lastSuccessfullyExecutedCode": "Food_claims['linked_cases'] = Food_claims['linked_cases'].fillna(False)\nFood_claims['linked_cases'].isna().sum()\n#The missing values have been replaced with 'false'"
   },
   "outputs": [
    {
     "data": {
      "text/plain": [
       "0"
      ]
     },
     "execution_count": 26,
     "metadata": {},
     "output_type": "execute_result"
    }
   ],
   "source": [
    "Food_claims['linked_cases'] = Food_claims['linked_cases'].fillna(False)\n",
    "Food_claims['linked_cases'].isna().sum()\n",
    "#The missing values have been replaced with 'false'"
   ]
  },
  {
   "cell_type": "code",
   "execution_count": 27,
   "id": "22013536-16da-40c0-915c-3814f3af521e",
   "metadata": {
    "executionTime": 27,
    "lastSuccessfullyExecutedCode": "Food_claims['amount_paid'].isna().sum()\n#We can see that there are 36 null values in our amount_paid column, we'll replace these values with the overall median amount paid."
   },
   "outputs": [
    {
     "data": {
      "text/plain": [
       "36"
      ]
     },
     "execution_count": 27,
     "metadata": {},
     "output_type": "execute_result"
    }
   ],
   "source": [
    "Food_claims['amount_paid'].isna().sum()\n",
    "#We can see that there are 36 null values in our amount_paid column, we'll replace these values with the overall median amount paid."
   ]
  },
  {
   "cell_type": "code",
   "execution_count": 28,
   "id": "7d9f49bc-194a-4a03-86eb-e1f2c3999a92",
   "metadata": {
    "executionTime": 26,
    "lastSuccessfullyExecutedCode": "print(Food_claims['amount_paid'].median())\n\"\"\"The median amount for amount_paid is 20105.699999999997 Brazilian reals. We'll round this value along with the rest\nof the column to 2 decimal places.\"\"\""
   },
   "outputs": [
    {
     "name": "stdout",
     "output_type": "stream",
     "text": [
      "20105.699999999997\n"
     ]
    },
    {
     "data": {
      "text/plain": [
       "\"The median amount for amount_paid is 20105.699999999997 Brazilian reals. We'll round this value along with the rest\\nof the column to 2 decimal places.\""
      ]
     },
     "execution_count": 28,
     "metadata": {},
     "output_type": "execute_result"
    }
   ],
   "source": [
    "print(Food_claims['amount_paid'].median())\n",
    "\"\"\"The median amount for amount_paid is 20105.699999999997 Brazilian reals. We'll round this value along with the rest\n",
    "of the column to 2 decimal places.\"\"\""
   ]
  },
  {
   "cell_type": "code",
   "execution_count": 29,
   "id": "c796a281-f240-4e33-9625-3f61eaee1896",
   "metadata": {
    "executionTime": 1967,
    "lastSuccessfullyExecutedCode": "Food_claims['amount_paid'] = Food_claims['amount_paid'].round(2)\nFood_claims['amount_paid'] = Food_claims['amount_paid'].fillna(Food_claims['amount_paid'].median())\n(print(Food_claims['amount_paid']))"
   },
   "outputs": [
    {
     "name": "stdout",
     "output_type": "stream",
     "text": [
      "0       51231.37\n",
      "1       42111.30\n",
      "2       23986.30\n",
      "3       27942.72\n",
      "4       16251.06\n",
      "          ...   \n",
      "1995    24265.02\n",
      "1996     4772.77\n",
      "1997    10087.81\n",
      "1998    23310.24\n",
      "1999     6417.92\n",
      "Name: amount_paid, Length: 2000, dtype: float64\n"
     ]
    }
   ],
   "source": [
    "Food_claims['amount_paid'] = Food_claims['amount_paid'].round(2)\n",
    "Food_claims['amount_paid'] = Food_claims['amount_paid'].fillna(Food_claims['amount_paid'].median())\n",
    "(print(Food_claims['amount_paid']))"
   ]
  },
  {
   "cell_type": "code",
   "execution_count": 30,
   "id": "cf485b6c-7ce1-44b8-b988-de31c58bca11",
   "metadata": {
    "executionTime": 20,
    "lastSuccessfullyExecutedCode": "Food_claims['amount_paid'].isna().sum()\n#All missing values have been replaced with the median and the column"
   },
   "outputs": [
    {
     "data": {
      "text/plain": [
       "0"
      ]
     },
     "execution_count": 30,
     "metadata": {},
     "output_type": "execute_result"
    }
   ],
   "source": [
    "Food_claims['amount_paid'].isna().sum()\n",
    "#All missing values have been replaced with the median and the column"
   ]
  },
  {
   "cell_type": "markdown",
   "id": "96665bca-f67c-4c7e-9a19-49ac8011d93a",
   "metadata": {},
   "source": [
    "Our columns and observations now match the specifications outlined in the criteria. We are now ready for Task 2."
   ]
  },
  {
   "cell_type": "code",
   "execution_count": 30,
   "id": "cf9810b7-488c-4909-ac13-b6f1f13f12e5",
   "metadata": {
    "executionTime": 0,
    "lastSuccessfullyExecutedCode": ""
   },
   "outputs": [],
   "source": []
  },
  {
   "cell_type": "markdown",
   "id": "643d4c36-4183-4fbe-a263-6b9de60d29da",
   "metadata": {},
   "source": [
    "## Task 2"
   ]
  },
  {
   "cell_type": "markdown",
   "id": "7a0eacde-519e-4e1d-98f3-6050e4723c7d",
   "metadata": {},
   "source": [
    "2. Create a visualization that shows the number of claims in each location. \n",
    "Use the visualization to:\n",
    "\n",
    "a. State which category of the variable location has the most observations\n",
    "\n",
    "b. Explain whether the observations are balanced across categories of the\n",
    "variable location\n"
   ]
  },
  {
   "cell_type": "code",
   "execution_count": 31,
   "id": "815b5350-cbd1-45f2-8b39-443d980b8485",
   "metadata": {
    "executionTime": 1277,
    "lastSuccessfullyExecutedCode": "ax = sns.countplot(x=Food_claims[\"location\"])\nax.set_title('Graph 1 Number of Claims in Each Location')\nax.set_xlabel(\"Location\")\nax.set_ylabel(\"Number of Claims\")\nabs_values = Food_claims['location'].value_counts(ascending=False).values\nax.bar_label(container=ax.containers[0], labels=[])"
   },
   "outputs": [
    {
     "data": {
      "text/plain": [
       "[Text(0, 0, '885'), Text(0, 0, '311'), Text(0, 0, '517'), Text(0, 0, '287')]"
      ]
     },
     "execution_count": 31,
     "metadata": {},
     "output_type": "execute_result"
    },
    {
     "data": {
      "image/png": "[encoded data removed]",
      "text/plain": [
       "<Figure size 640x480 with 1 Axes>"
      ]
     },
     "metadata": {},
     "output_type": "display_data"
    }
   ],
   "source": [
    "ax = sns.countplot(x=Food_claims[\"location\"])\n",
    "ax.set_title('Graph 1 Number of Claims in Each Location')\n",
    "ax.set_xlabel(\"Location\")\n",
    "ax.set_ylabel(\"Number of Claims\")\n",
    "abs_values = Food_claims['location'].value_counts(ascending=False).values\n",
    "ax.bar_label(container=ax.containers[0], labels=[])"
   ]
  },
  {
   "cell_type": "markdown",
   "id": "e1e50299-28cf-4e64-9b53-bbd7f5cd25c0",
   "metadata": {},
   "source": [
    "We use seaborn to create a countplot to observe the number of claims in each location in our dataset. \n",
    "Recife has the most observations (885), which is considerably more than in any of the other locations. \n",
    "\n",
    "We cannnot say that the observations are balanced across categories as Recife has considerably more\n",
    "observations (885) than the next highest total of 517 in Sao Luis. \n",
    "\n",
    "The final two locations have similar totals; 311 claims in Fortaleza and 287 claims in Natal. "
   ]
  },
  {
   "cell_type": "markdown",
   "id": "1d5ba38c-1b3a-4f9b-bf38-bb0a62dac346",
   "metadata": {},
   "source": [
    "_Write your answer here_"
   ]
  },
  {
   "cell_type": "markdown",
   "id": "ce5f6df2-fbf2-4c44-9209-9ee668876b53",
   "metadata": {},
   "source": [
    "## Task 3"
   ]
  },
  {
   "cell_type": "markdown",
   "id": "d93a201a-4e21-4ac3-97b6-76f4077167a8",
   "metadata": {},
   "source": [
    "Describe the distribution of time to close for all claims. Your answer must include a\n",
    "visualization that shows the distribution.\n"
   ]
  },
  {
   "cell_type": "code",
   "execution_count": 32,
   "id": "71887a72-077f-45ca-9d15-61da9146afce",
   "metadata": {
    "executionTime": 4114,
    "lastSuccessfullyExecutedCode": "sns.boxplot(data=Food_claims, y='time_to_close', x='cause', hue='location').set(title='Graph 2 Distribution of Time to Close for all claims');\n"
   },
   "outputs": [
    {
     "data": {
      "image/png": "[encoded data removed]",
      "text/plain": [
       "<Figure size 640x480 with 1 Axes>"
      ]
     },
     "metadata": {},
     "output_type": "display_data"
    }
   ],
   "source": [
    "sns.boxplot(data=Food_claims, y='time_to_close', x='cause', hue='location').set(title='Graph 2 Distribution of Time to Close for all claims');\n"
   ]
  },
  {
   "cell_type": "markdown",
   "id": "4edda635-9b0d-45c7-a219-c3c4371a96d9",
   "metadata": {},
   "source": [
    "Our boxplot shows the distribution of time to close for all types of claims. We can clearly see in our boxplot below \n",
    "(Graph 2) that the 'unknown' cause boxplot has numerous outliers that are greater than the maximum value in the boxplot. \n",
    "\n",
    "These outliers are include values much greater than from any other causes,  \n",
    "with many 'unknown' claims taking longer than 400 days to close. \n",
    "\n",
    "Meat also has several outlier values greater than the maximum value in the boxplot, \n",
    "with one observation taking longer than 400 days to close.\n",
    "\n",
    "In our 'vegetable' cause boxplot we have several outliers that are greater than our maximum value and several more outliers\n",
    "that are smaller than the minimum value of our boxplot. Several claims took less than 150 days to complete.\n",
    "\n",
    "In summary, the distribution of time to close differs based on the type of claim.\n"
   ]
  },
  {
   "cell_type": "markdown",
   "id": "c5fbe3a0-d277-437c-a1a0-f1edf80684f7",
   "metadata": {},
   "source": [
    "## Task 4"
   ]
  },
  {
   "cell_type": "markdown",
   "id": "ae8dd184-2d16-41c4-b3be-c436ef70f4ea",
   "metadata": {},
   "source": [
    "Describe the relationship between time to close and location. Your answer must\n",
    "include a visualization to demonstrate the relationship."
   ]
  },
  {
   "cell_type": "code",
   "execution_count": 33,
   "id": "9719deb6-21c7-458d-91ca-8cf469d3489c",
   "metadata": {
    "executionTime": 3904,
    "lastSuccessfullyExecutedCode": "sns.scatterplot(data=Food_claims, y='time_to_close', x='location').set(title='Graph 3 Relationship between Time to Close and Location');"
   },
   "outputs": [
    {
     "data": {
      "image/png": "[encoded data removed]",
      "text/plain": [
       "<Figure size 640x480 with 1 Axes>"
      ]
     },
     "metadata": {},
     "output_type": "display_data"
    }
   ],
   "source": [
    "sns.scatterplot(data=Food_claims, y='time_to_close', x='location').set(title='Graph 3 Relationship between Time to Close and Location');"
   ]
  },
  {
   "cell_type": "markdown",
   "id": "6c2c503f-9e25-4362-904b-93e74ab98440",
   "metadata": {},
   "source": [
    "Graph 3 visualises the relationship between Time to Close and the location of the store using a scatterplot. Immediately we can see there are some\n",
    "outlier values in the Sao Luis location that are much greater than in any of the other locations, with some claims taking 500 days to process.\n",
    "Looking back at Graph 2 we can that these claims in Sao Luis were of an 'unknown' nature that should be investigated further.\n",
    "\n",
    "The other three locations all have several outlier values greater than their 'maximum' values in their respective boxplots.\n",
    "Again looking back at Graph 2 we can see that many of these outlier claims were of an 'unknown nature'.\n",
    "\n",
    "Looking at the Q1-Q3 quartiles in each of our locations we don't see a great difference in the amount of time to close between locations.\n",
    "\n",
    "To summarise, Recife has received the most claims, with claims of an 'unknown' nature taking the longest time to close compared \n",
    "to claims related to 'vegetable' which are fastest type of claim to clear. \n"
   ]
  },
  {
   "cell_type": "markdown",
   "id": "170dd2ea-340f-4ab4-94c8-fe077342e98e",
   "metadata": {},
   "source": [
    "_Write your answer here_"
   ]
  },
  {
   "cell_type": "markdown",
   "id": "f635131a-00f8-44dd-b610-509db41c1154",
   "metadata": {
    "tags": []
   },
   "source": [
    "## ✅ When you have finished...\n",
    "-  Publish your Workspace using the option on the left\n",
    "-  Check the published version of your report:\n",
    "\t-  Can you see everything you want us to grade?\n",
    "    -  Are all the graphics visible?\n",
    "-  Review the grading rubric. Have you included everything that will be graded?\n",
    "-  Head back to the [Certification Dashboard](https://app.datacamp.com/certification) to submit your practical exam"
   ]
  }
 ],
 "metadata": {
  "colab": {
   "name": "Welcome to DataCamp Workspaces.ipynb",
   "provenance": []
  },
  "kernelspec": {
   "display_name": "Python 3 (ipykernel)",
   "language": "python",
   "name": "python3"
  },
  "language_info": {
   "codemirror_mode": {
    "name": "ipython",
    "version": 3
   },
   "file_extension": ".py",
   "mimetype": "text/x-python",
   "name": "python",
   "nbconvert_exporter": "python",
   "pygments_lexer": "ipython3",
   "version": "3.10.9"
  }
 },
 "nbformat": 4,
 "nbformat_minor": 5
}
